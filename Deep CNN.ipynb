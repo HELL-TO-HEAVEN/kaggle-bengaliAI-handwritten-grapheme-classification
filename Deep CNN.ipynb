{
 "cells": [
  {
   "cell_type": "code",
   "execution_count": 23,
   "metadata": {},
   "outputs": [],
   "source": [
    "from warnings import filterwarnings\n",
    "filterwarnings(\"ignore\")\n",
    "\n",
    "import pandas as pd\n",
    "import numpy as np\n",
    "import matplotlib.pyplot as plt\n",
    "import cv2 as cv\n",
    "\n",
    "%matplotlib inline\n",
    "\n",
    "from tensorflow.keras import Sequential\n",
    "from tensorflow.keras.layers import *\n",
    "from tensorflow.keras.models import Model\n",
    "from tensorflow.keras.preprocessing.image import ImageDataGenerator\n",
    "\n",
    "from sklearn.model_selection import train_test_split\n",
    "from sklearn.preprocessing import OneHotEncoder\n",
    "\n",
    "from tqdm import tqdm_notebook\n",
    "from notifyme import notify\n",
    "\n",
    "import gc"
   ]
  },
  {
   "cell_type": "code",
   "execution_count": 3,
   "metadata": {},
   "outputs": [],
   "source": [
    "labels = pd.read_csv(\"./train.csv\")"
   ]
  },
  {
   "cell_type": "code",
   "execution_count": 4,
   "metadata": {},
   "outputs": [
    {
     "data": {
      "text/plain": [
       "image_id               200840\n",
       "grapheme_root             168\n",
       "vowel_diacritic            11\n",
       "consonant_diacritic         7\n",
       "grapheme                 1295\n",
       "dtype: int64"
      ]
     },
     "execution_count": 4,
     "metadata": {},
     "output_type": "execute_result"
    }
   ],
   "source": [
    "labels.nunique()"
   ]
  },
  {
   "cell_type": "code",
   "execution_count": 5,
   "metadata": {},
   "outputs": [
    {
     "data": {
      "text/plain": [
       "OneHotEncoder(categorical_features='all', dtype=<class 'numpy.uint16'>,\n",
       "       handle_unknown='error', n_values='auto', sparse=False)"
      ]
     },
     "execution_count": 5,
     "metadata": {},
     "output_type": "execute_result"
    }
   ],
   "source": [
    "grapheme_root_ohe = OneHotEncoder(dtype=np.uint16,sparse=False)\n",
    "vowel_diacritic_ohe = OneHotEncoder(dtype=np.uint16,sparse=False)\n",
    "consonant_diacritic_ohe = OneHotEncoder(dtype=np.uint16,sparse=False)\n",
    "\n",
    "grapheme_root_ohe.fit(labels[['grapheme_root']])\n",
    "vowel_diacritic_ohe.fit(labels[['vowel_diacritic']])\n",
    "consonant_diacritic_ohe.fit(labels[['consonant_diacritic']])"
   ]
  },
  {
   "cell_type": "code",
   "execution_count": 7,
   "metadata": {
    "scrolled": false
   },
   "outputs": [],
   "source": [
    "inputs = Input(shape = (64, 64, 1),name=\"inputs\")\n",
    "model = Conv2D(filters=32, kernel_size=(4, 4), padding='SAME', activation='relu', input_shape=(64, 64, 1))(inputs)\n",
    "model = Conv2D(filters=32, kernel_size=(4, 4), padding='SAME', activation='relu')(model)\n",
    "model = BatchNormalization(momentum=0.15)(model)\n",
    "model = MaxPool2D(pool_size=(2, 2))(model)\n",
    "model = Conv2D(filters=32, kernel_size=(5, 5), padding='SAME', activation='relu')(model)\n",
    "model = Dropout(rate=0.3)(model)\n",
    "\n",
    "model = Conv2D(filters=64, kernel_size=(3, 3), padding='SAME', activation='relu')(model)\n",
    "model = Conv2D(filters=64, kernel_size=(4, 4), padding='SAME', activation='relu')(model)\n",
    "model = BatchNormalization(momentum=0.15)(model)\n",
    "model = MaxPool2D(pool_size=(2, 2))(model)\n",
    "model = Conv2D(filters=64, kernel_size=(5, 5), padding='SAME', activation='relu')(model)\n",
    "model = BatchNormalization(momentum=0.15)(model)\n",
    "model = Dropout(rate=0.3)(model)\n",
    "\n",
    "model = Conv2D(filters=128, kernel_size=(3, 3), padding='SAME', activation='relu')(model)\n",
    "model = Conv2D(filters=128, kernel_size=(4, 4), padding='SAME', activation='relu')(model)\n",
    "model = BatchNormalization(momentum=0.15)(model)\n",
    "model = MaxPool2D(pool_size=(2, 2))(model)\n",
    "model = Conv2D(filters=128, kernel_size=(5, 5), padding='SAME', activation='relu')(model)\n",
    "model = BatchNormalization(momentum=0.15)(model)\n",
    "model = Dropout(rate=0.3)(model)\n",
    "\n",
    "model = Conv2D(filters=256, kernel_size=(6, 6), padding='SAME', activation='relu')(model)\n",
    "model = Conv2D(filters=256, kernel_size=(3, 3), padding='SAME', activation='relu')(model)\n",
    "model = Conv2D(filters=256, kernel_size=(3, 3), padding='SAME', activation='relu')(model)\n",
    "model = BatchNormalization(momentum=0.15)(model)\n",
    "model = MaxPool2D(pool_size=(2, 2))(model)\n",
    "model = Conv2D(filters=256, kernel_size=(5, 5), padding='SAME', activation='relu')(model)\n",
    "model = BatchNormalization(momentum=0.15)(model)\n",
    "model = Dropout(rate=0.3)(model)\n",
    "\n",
    "model = Flatten()(model)\n",
    "model = Dense(1024, activation = \"relu\")(model)\n",
    "model = Dropout(rate=0.3)(model)\n",
    "dense = Dense(512, activation = \"relu\")(model)\n",
    "\n",
    "head_root = Dense(168, activation = 'softmax',name=\"grapheme_root\")(dense)\n",
    "head_vowel = Dense(11, activation = 'softmax',name='vowel_diacritic')(dense)\n",
    "head_consonant = Dense(7, activation = 'softmax',name='consonant_diacritic')(dense)\n",
    "\n",
    "model = Model(inputs=inputs, outputs=[head_root, head_vowel, head_consonant])"
   ]
  },
  {
   "cell_type": "code",
   "execution_count": 8,
   "metadata": {},
   "outputs": [],
   "source": [
    "model.compile(optimizer=\"adam\",loss='categorical_crossentropy',metrics=['accuracy'])"
   ]
  },
  {
   "cell_type": "code",
   "execution_count": 9,
   "metadata": {},
   "outputs": [],
   "source": [
    "def crop(img,pad=True):\n",
    "    W_THRESH = 8\n",
    "    H_THRESH = 8\n",
    "    PAD = 3 if pad else 0\n",
    "\n",
    "    W_MIN,W_MAX = np.where(img.std(axis=0) > W_THRESH)[0][[0,-1]]\n",
    "    H_MIN,H_MAX = np.where(img.std(axis=1) > H_THRESH)[0][[0,-1]]\n",
    "    \n",
    "    return np.pad(img[H_MIN:H_MAX,W_MIN:W_MAX],PAD,constant_values=253)\n",
    "\n",
    "def resize(img):\n",
    "    img = crop(img.reshape(137,236).astype(np.uint8))\n",
    "    ret,img = cv.threshold(img,110,255,cv.THRESH_BINARY_INV)    \n",
    "    return cv.resize(img,(64,64)).astype(np.uint8).reshape(64,64,1)\n",
    "\n",
    "def input_flow(x,y,batch_size=200):\n",
    "    for i in range(batch_size,x.shape[0],batch_size):\n",
    "        rows = x.iloc[i-batch_size:i].values\n",
    "        yield (\n",
    "                {\"inputs\":np.apply_along_axis(resize,axis=1,arr=rows)},\n",
    "                {\n",
    "                    \"grapheme_root\":y[0][i-batch_size:i],\n",
    "                    'vowel_diacritic':y[1][i-batch_size:i],\n",
    "                    'consonant_diacritic':y[2][i-batch_size:i]\n",
    "                }\n",
    "            )"
   ]
  },
  {
   "cell_type": "code",
   "execution_count": 21,
   "metadata": {},
   "outputs": [],
   "source": [
    "def get_train_test(file_id):\n",
    "    df = pd.merge(\n",
    "            pd.read_parquet(f\"./train_image_data_{file_id}.parquet\"),\n",
    "            labels,\n",
    "            on='image_id'\n",
    "        )\n",
    "    \n",
    "    grapheme_root = grapheme_root_ohe.transform(df.grapheme_root.reshape(-1,1))\n",
    "    vowel_diacritic = vowel_diacritic_ohe.transform(df.vowel_diacritic.reshape(-1,1))\n",
    "    consonant_diacritic = consonant_diacritic_ohe.transform(df.consonant_diacritic.reshape(-1,1))\n",
    "    \n",
    "    df = df.drop(columns=['image_id','grapheme_root','vowel_diacritic','consonant_diacritic','grapheme'])\n",
    "    \n",
    "    return df,(grapheme_root,vowel_diacritic,consonant_diacritic)"
   ]
  },
  {
   "cell_type": "code",
   "execution_count": 28,
   "metadata": {},
   "outputs": [],
   "source": [
    "X,Y = get_train_test(0)"
   ]
  },
  {
   "cell_type": "code",
   "execution_count": 31,
   "metadata": {},
   "outputs": [
    {
     "name": "stdout",
     "output_type": "stream",
     "text": [
      "100/100 [==============================] - 86s 856ms/step - loss: 7.3932 - grapheme_root_loss: 4.7255 - vowel_diacritic_loss: 1.4911 - consonant_diacritic_loss: 1.1767 - grapheme_root_acc: 0.0332 - vowel_diacritic_acc: 0.4963 - consonant_diacritic_acc: 0.6274\n"
     ]
    },
    {
     "data": {
      "text/plain": [
       "<tensorflow.python.keras.callbacks.History at 0x7fb4a00609b0>"
      ]
     },
     "execution_count": 31,
     "metadata": {},
     "output_type": "execute_result"
    }
   ],
   "source": [
    "BATCH_SIZE = 500\n",
    "EPOCHS = 10\n",
    "\n",
    "gen = input_flow(X,Y,batch_size=BATCH_SIZE)\n",
    "\n",
    "model.fit_generator(gen,steps_per_epoch=X.shape[0]//BATCH_SIZE)"
   ]
  },
  {
   "cell_type": "code",
   "execution_count": null,
   "metadata": {},
   "outputs": [],
   "source": []
  }
 ],
 "metadata": {
  "kernelspec": {
   "display_name": "Python 3",
   "language": "python",
   "name": "python3"
  },
  "language_info": {
   "codemirror_mode": {
    "name": "ipython",
    "version": 3
   },
   "file_extension": ".py",
   "mimetype": "text/x-python",
   "name": "python",
   "nbconvert_exporter": "python",
   "pygments_lexer": "ipython3",
   "version": "3.6.9"
  }
 },
 "nbformat": 4,
 "nbformat_minor": 4
}
